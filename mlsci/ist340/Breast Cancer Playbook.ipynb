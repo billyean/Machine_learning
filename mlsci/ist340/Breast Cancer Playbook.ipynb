{
 "cells": [
  {
   "cell_type": "code",
   "execution_count": 12,
   "metadata": {},
   "outputs": [],
   "source": [
    "import pandas as pd\n",
    "from numpy import dtype\n",
    "import numpy as np\n",
    "import random\n",
    "import time"
   ]
  },
  {
   "cell_type": "code",
   "execution_count": 13,
   "metadata": {},
   "outputs": [
    {
     "name": "stdout",
     "output_type": "stream",
     "text": [
      "WARNING *** OLE2 inconsistency: SSCS size is 0 but SSAT size is non-zero\n"
     ]
    }
   ],
   "source": [
    "data = pd.read_excel('Breast_Cancer.xls')"
   ]
  },
  {
   "cell_type": "code",
   "execution_count": 55,
   "metadata": {},
   "outputs": [],
   "source": [
    "random_data = []\n",
    "random.seed(time.time())"
   ]
  },
  {
   "cell_type": "code",
   "execution_count": 56,
   "metadata": {},
   "outputs": [],
   "source": [
    "data['CLUMPTHI'] = data['CLUMPTHI'].astype('category')\n",
    "data['UOFCLSIZ'] = data['UOFCLSIZ'].astype('category')\n",
    "data['UOFCLSHA'] = data['UOFCLSHA'].astype('category')\n",
    "data['MARGINAL'] = data['MARGINAL'].astype('category')\n",
    "data['SINGLEEP'] = data['SINGLEEP'].astype('category')\n",
    "data['BARENUCL'] = data['BARENUCL'].astype('category')\n",
    "data['BLANDCHR'] = data['BLANDCHR'].astype('category')\n",
    "data['NORMALNU'] = data['NORMALNU'].astype('category')\n",
    "data['MITOSES'] = data['MITOSES'].astype('category')\n",
    "data['CLASS'] = data['CLASS'].astype('category')"
   ]
  },
  {
   "cell_type": "code",
   "execution_count": 57,
   "metadata": {},
   "outputs": [],
   "source": [
    "list = []\n",
    "clumpthis = data['CLUMPTHI'].unique()\n",
    "uofclsizs = data['UOFCLSIZ'].unique()\n",
    "uofclshas = data['UOFCLSHA'].unique()\n",
    "marginals = data['MARGINAL'].unique()\n",
    "singleeps = data['SINGLEEP'].unique()\n",
    "barenucls = data['BARENUCL'].unique()\n",
    "blandchrs = data['BLANDCHR'].unique()\n",
    "normalnus = data['NORMALNU'].unique()\n",
    "mitosess = data['MITOSES'].unique()\n",
    "classes = data['CLASS'].unique()\n",
    "\n",
    "for i in range(20):\n",
    "    clumpthi = clumpthis[random.randint(0, len(clumpthis) - 1)]\n",
    "    uofclsiz = uofclsizs[random.randint(0, len(uofclsizs) - 1)]\n",
    "    uofclsha = uofclshas[random.randint(0, len(uofclshas) - 1)]\n",
    "    marginal = marginals[random.randint(0, len(marginals) - 1)]\n",
    "    singleep = singleeps[random.randint(0, len(singleeps) - 1)]\n",
    "    barenucl = barenucls[random.randint(0, len(barenucls) - 1)]\n",
    "    blandchr = blandchrs[random.randint(0, len(blandchrs) - 1)]\n",
    "    normalnu = normalnus[random.randint(0, len(normalnus) - 1)]\n",
    "    mitoses  = mitosess[random.randint(0, len(mitosess) - 1)]\n",
    "    clazz    = classes[random.randint(0, len(classes) - 1)]\n",
    "    list.append([clumpthi, uofclsiz, uofclsha, marginal, singleep, barenucl, blandchr, normalnu, mitoses, clazz])"
   ]
  },
  {
   "cell_type": "code",
   "execution_count": 58,
   "metadata": {},
   "outputs": [],
   "source": [
    "test_data = pd.DataFrame(list, columns=['CLUMPTHI', 'UOFCLSIZ', 'UOFCLSHA', 'MARGINAL', 'SINGLEEP', 'BARENUCL', 'BLANDCHR', 'NORMALNU', 'MITOSES', 'CLASS'])"
   ]
  },
  {
   "cell_type": "code",
   "execution_count": 54,
   "metadata": {},
   "outputs": [],
   "source": [
    "test_data.to_excel('Breast Cancer Test.xls')"
   ]
  },
  {
   "cell_type": "code",
   "execution_count": null,
   "metadata": {},
   "outputs": [],
   "source": []
  }
 ],
 "metadata": {
  "kernelspec": {
   "display_name": "Python 3",
   "language": "python",
   "name": "python3"
  },
  "language_info": {
   "codemirror_mode": {
    "name": "ipython",
    "version": 3
   },
   "file_extension": ".py",
   "mimetype": "text/x-python",
   "name": "python",
   "nbconvert_exporter": "python",
   "pygments_lexer": "ipython3",
   "version": "3.6.9"
  }
 },
 "nbformat": 4,
 "nbformat_minor": 4
}
