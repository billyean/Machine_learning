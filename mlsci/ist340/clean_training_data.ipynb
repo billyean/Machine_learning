{
 "cells": [
  {
   "cell_type": "code",
   "execution_count": 1,
   "metadata": {},
   "outputs": [],
   "source": [
    "import pandas as pd\n",
    "import numpy as np\n",
    "import matplotlib.pyplot as plt"
   ]
  },
  {
   "cell_type": "code",
   "execution_count": 2,
   "metadata": {},
   "outputs": [
    {
     "name": "stderr",
     "output_type": "stream",
     "text": [
      "/Users/h0y01c9/opt/anaconda3/envs/py36/lib/python3.6/site-packages/IPython/core/interactiveshell.py:3063: DtypeWarning: Columns (309,312,314,317,329,332,334) have mixed types. Specify dtype option on import or set low_memory=False.\n",
      "  interactivity=interactivity, compiler=compiler, result=result)\n"
     ]
    }
   ],
   "source": [
    "pandemic = pd.read_csv(\"final/Confirmed cases and deaths.csv\")\n",
    "prepandemic = pd.read_csv(\"final/prepandemic_v2.csv\")\n",
    "unemployment = pd.read_csv(\"final/Unemployment_v1.csv\")\n",
    "\n",
    "# Remove all Puerto Rico data\n",
    "pandemic = pandemic.drop(pandemic[pandemic['stname'] == 'Puerto Rico'].index)"
   ]
  },
  {
   "cell_type": "code",
   "execution_count": 3,
   "metadata": {},
   "outputs": [],
   "source": [
    "# Need state and county name\n",
    "state = pandemic['stname']\n",
    "county = pandemic['ctyname']\n",
    "\n",
    "# The confirmed cases and death number is accumulated, used the last available date data\n",
    "confirmed_cases = pandemic['confirmed_cases_20200502']\n",
    "deaths = pandemic['death20200502']"
   ]
  },
  {
   "cell_type": "code",
   "execution_count": 4,
   "metadata": {},
   "outputs": [],
   "source": [
    "# Get days between first confirmed case to now\n",
    "import datetime\n",
    "def days(pandemic_row, start = datetime.datetime(2020,1,22), end = datetime.datetime(2020,4,18), min_number = 200, min_precent=0.3):\n",
    "    end_title = 'confirmed_cases_' +  end.strftime(\"%Y%m%d\")\n",
    "    \n",
    "    total_days = (end - start).days + 1\n",
    "    min_cases = min(pandemic_row[end_title] * min_precent, min_number)\n",
    "\n",
    "    current = start\n",
    "    accumulate_cases = 0\n",
    "    days = 0\n",
    "    while current <= end:\n",
    "        title = 'confirmed_cases_' +  current.strftime(\"%Y%m%d\")\n",
    "        accumulate_cases += pandemic_row[title]\n",
    "        if accumulate_cases < min_cases:\n",
    "            days += 1\n",
    "        else:\n",
    "            break\n",
    "\n",
    "        current += datetime.timedelta(days=1)\n",
    "    \n",
    "    return total_days - days\n",
    "case_days = pandemic.apply(lambda x: days(x,end = datetime.datetime(2020,5,2)), axis = 1) "
   ]
  },
  {
   "cell_type": "code",
   "execution_count": 5,
   "metadata": {},
   "outputs": [],
   "source": [
    "# Use year 2018(closest) population density\n",
    "populationdensity=prepandemic['popdensity_2018']\n",
    "populationdensity_min = populationdensity.min()\n",
    "populationdensity_mean = populationdensity.mean()\n",
    "populationdensity_stage = populationdensity_mean - populationdensity_min\n",
    "def populationdensity_category(populationdensity):\n",
    "    if populationdensity < populationdensity_mean - populationdensity_stage * 0.9: \n",
    "        return '1_Very Low' \n",
    "    elif populationdensity < populationdensity_mean - populationdensity_stage * 0.3: \n",
    "        return '2_Low'  \n",
    "    elif populationdensity < populationdensity_mean + populationdensity_stage * 0.3: \n",
    "        return '3_Medium'   \n",
    "    elif populationdensity < populationdensity_mean + populationdensity_stage: \n",
    "        return '4_High' \n",
    "    else:\n",
    "        return 'Very_High'\n",
    "populationdensity_category = prepandemic.apply(lambda x: populationdensity_category(x['popdensity_2018']), axis = 1)"
   ]
  },
  {
   "cell_type": "code",
   "execution_count": 6,
   "metadata": {},
   "outputs": [],
   "source": [
    "# Get top 3 most populations ethnicity group in the county\n",
    "def ethnic_group_top(hispanic, white, black, indian, asian, hawaii_na, top):\n",
    "    ethnic_groups = [('Hispanic', hispanic), ('White', white), ('Black', black), ('Indian', indian), ('Asian', asian), ('Hawaii and N/A', hawaii_na)]\n",
    "    ethnic_groups = sorted(ethnic_groups, key = lambda x: -x[1])\n",
    "    return ethnic_groups[top - 1][0]\n",
    "\n",
    "ethnic_group_top1 = prepandemic.apply(lambda x: ethnic_group_top(x['hispanic_2018'], x['nhwhite_2018'], x['nhblack_2018'], x['nhindian_2018'], x['nhasian_2018'], x['nhhawaii_2018'], 1), axis = 1)\n",
    "ethnic_group_top2 = prepandemic.apply(lambda x: ethnic_group_top(x['hispanic_2018'], x['nhwhite_2018'], x['nhblack_2018'], x['nhindian_2018'], x['nhasian_2018'], x['nhhawaii_2018'], 2), axis = 1)\n",
    "ethnic_group_top3 = prepandemic.apply(lambda x: ethnic_group_top(x['hispanic_2018'], x['nhwhite_2018'], x['nhblack_2018'], x['nhindian_2018'], x['nhasian_2018'], x['nhhawaii_2018'], 3), axis = 1)"
   ]
  },
  {
   "cell_type": "code",
   "execution_count": 7,
   "metadata": {},
   "outputs": [],
   "source": [
    "# Age data has 18 columns, we group them to children, young adult, middle adult, senior\n",
    "# column1:  age 0-4 prop.\n",
    "# column2:  age 5-9 prop.\n",
    "# column3:  age 10-14 prop.\n",
    "# column4:  age 15-19 prop.\n",
    "# column5:  age 20-24 prop.\n",
    "# column6:  age 25-29 prop.\n",
    "# column7:  age 30-34 prop.\n",
    "# column8:  age 35-39 prop.\n",
    "# column9:  age 40-44 prop.\n",
    "# column10: age 45-49 prop.\n",
    "# column11: age 50-54 prop.\n",
    "# column12: age 55-59 prop.\n",
    "# column13: age 60-64 prop.\n",
    "# column14: age 65-69 prop.\n",
    "# column15: age 70-74 prop.\n",
    "# column16: age 75-79 prop.\n",
    "# column17: age 80-84 prop.\n",
    "# column18: age 85+ prop.\n",
    "def age_group_top(age, top):\n",
    "    children_poportion = age[0] + age[1] + age[2] + age[3]\n",
    "    young_adult_poportion = age[4] + age[5] + age[6] + age[7] + age[8]\n",
    "    middle_adult_poportion = age[9] + age[10] + age[11] + age[12]\n",
    "    senior_poportion = age[13] + age[14] + age[15] + age[16] + age[17]\n",
    "    age_group_list = [('Children', children_poportion), ('Young Adult', young_adult_poportion), ('Middle Adult', middle_adult_poportion), ('Senior', senior_poportion)]\n",
    "    age_group_list = sorted(age_group_list, key = lambda x: -x[1])\n",
    "    return age_group_list[top - 1][0]\n",
    "age_groups_top1 = prepandemic.apply(lambda x: age_group_top([x['ageg1_2018'], x['ageg2_2018'], x['ageg3_2018'], x['ageg4_2018'], x['ageg5_2018'], x['ageg6_2018'], x['ageg7_2018'], x['ageg8_2018'], x['ageg9_2018'], x['ageg10_2018'], x['ageg11_2018'], x['ageg12_2018'], x['ageg13_2018'], x['ageg14_2018'], x['ageg15_2018'], x['ageg16_2018'], x['ageg17_2018'], x['ageg18_2018']], 1), axis = 1)\n",
    "age_groups_top2 = prepandemic.apply(lambda x: age_group_top([x['ageg1_2018'], x['ageg2_2018'], x['ageg3_2018'], x['ageg4_2018'], x['ageg5_2018'], x['ageg6_2018'], x['ageg7_2018'], x['ageg8_2018'], x['ageg9_2018'], x['ageg10_2018'], x['ageg11_2018'], x['ageg12_2018'], x['ageg13_2018'], x['ageg14_2018'], x['ageg15_2018'], x['ageg16_2018'], x['ageg17_2018'], x['ageg18_2018']], 2), axis = 1)\n",
    "age_groups_top3 = prepandemic.apply(lambda x: age_group_top([x['ageg1_2018'], x['ageg2_2018'], x['ageg3_2018'], x['ageg4_2018'], x['ageg5_2018'], x['ageg6_2018'], x['ageg7_2018'], x['ageg8_2018'], x['ageg9_2018'], x['ageg10_2018'], x['ageg11_2018'], x['ageg12_2018'], x['ageg13_2018'], x['ageg14_2018'], x['ageg15_2018'], x['ageg16_2018'], x['ageg17_2018'], x['ageg18_2018']], 3), axis = 1)\n",
    "age_groups_top4 = prepandemic.apply(lambda x: age_group_top([x['ageg1_2018'], x['ageg2_2018'], x['ageg3_2018'], x['ageg4_2018'], x['ageg5_2018'], x['ageg6_2018'], x['ageg7_2018'], x['ageg8_2018'], x['ageg9_2018'], x['ageg10_2018'], x['ageg11_2018'], x['ageg12_2018'], x['ageg13_2018'], x['ageg14_2018'], x['ageg15_2018'], x['ageg16_2018'], x['ageg17_2018'], x['ageg18_2018']], 4), axis = 1)"
   ]
  },
  {
   "cell_type": "code",
   "execution_count": 8,
   "metadata": {},
   "outputs": [],
   "source": [
    "# Get all education adata\n",
    "education = pd.read_excel(\"final/Education_By_County.xls\")\n",
    "education = education.drop(education[pd.isna(education['2013 Rural-urban Continuum Code'])].index)"
   ]
  },
  {
   "cell_type": "code",
   "execution_count": 9,
   "metadata": {},
   "outputs": [
    {
     "name": "stdout",
     "output_type": "stream",
     "text": [
      "In education data set[VA]: 134 rows, in pandemic dataset[Virginia]: 133 rows\n",
      "In education data set[PR]: 78 rows, in pandemic dataset[Puerto Rico]: 0 rows\n"
     ]
    }
   ],
   "source": [
    "states_map = pd.read_csv(\"final/states.csv\")\n",
    "states_map\n",
    "\n",
    "for index, row in states_map.iterrows():\n",
    "    pc = len(pandemic[pandemic['stname'] == row[1]])\n",
    "    ec = len(education[education['State'] == row[0]])\n",
    "    if pc != ec:\n",
    "        print(f\"In education data set[{row[0]}]: {ec} rows, in pandemic dataset[{row[1]}]: {pc} rows\")  "
   ]
  },
  {
   "cell_type": "code",
   "execution_count": 10,
   "metadata": {},
   "outputs": [
    {
     "name": "stdout",
     "output_type": "stream",
     "text": [
      "Bedford city is missing in va_pandemic\n"
     ]
    }
   ],
   "source": [
    "va_pandemic = pandemic[pandemic['stname'] == 'Virginia']\n",
    "va_education = education[education['State'] == 'VA']\n",
    "for index, row in va_education.iterrows():\n",
    "    area = row['Area name']\n",
    "    if len(va_pandemic[va_pandemic['ctyname'] == area]) == 0:\n",
    "        print(f\"{area} is missing in va_pandemic\")"
   ]
  },
  {
   "cell_type": "code",
   "execution_count": 11,
   "metadata": {},
   "outputs": [],
   "source": [
    "education = education.drop(education[education['Area name'] == 'Bedford city'].index)\n",
    "\n",
    "#education['Percent of adults completing some college or associate\\'s degree, 2014-18']\n",
    "# education['Percent of adults with a bachelor\\'s degree or higher, 2014-18']\n",
    "\n",
    "# Age data has 18 columns, we group them to children, young adult, middle adult, senior\n",
    "# column1:  less than high school diploma poportion.\n",
    "# column2:  high school diploma only poportion.\n",
    "# column3:  some college or associate degress poportion.\n",
    "# column4:  bachelor or higher education poportion.\n",
    "def education_group_top(less_than_high_school, high_school, college, bachelor_above, top):\n",
    "    education_group = [('Less_than_high_school', less_than_high_school), ('High_school', high_school), ('Some_college_or_associate', college), ('Bachelor_Or_Above', bachelor_above)]\n",
    "    education_group = sorted(education_group, key = lambda x: -x[1])\n",
    "    return education_group[top - 1][0]\n",
    "\n",
    "education_group_top1 = education.apply(lambda x: education_group_top(x['Percent of adults with less than a high school diploma, 2014-18'], \n",
    "                                                                     x['Percent of adults with a high school diploma only, 2014-18'], \n",
    "                                                                     x['Percent of adults completing some college or associate\\'s degree, 2014-18'], \n",
    "                                                                     x['Percent of adults with a bachelor\\'s degree or higher, 2014-18'], 1), axis=1)\n",
    "education_group_top2 = education.apply(lambda x: education_group_top(x['Percent of adults with less than a high school diploma, 2014-18'], \n",
    "                                                                     x['Percent of adults with a high school diploma only, 2014-18'], \n",
    "                                                                     x['Percent of adults completing some college or associate\\'s degree, 2014-18'], \n",
    "                                                                     x['Percent of adults with a bachelor\\'s degree or higher, 2014-18'], 2), axis=1)\n",
    "education_group_top3 = education.apply(lambda x: education_group_top(x['Percent of adults with less than a high school diploma, 2014-18'], \n",
    "                                                                     x['Percent of adults with a high school diploma only, 2014-18'], \n",
    "                                                                     x['Percent of adults completing some college or associate\\'s degree, 2014-18'], \n",
    "                                                                     x['Percent of adults with a bachelor\\'s degree or higher, 2014-18'], 3), axis=1)\n",
    "education_group_top4 = education.apply(lambda x: education_group_top(x['Percent of adults with less than a high school diploma, 2014-18'], \n",
    "                                                                     x['Percent of adults with a high school diploma only, 2014-18'], \n",
    "                                                                     x['Percent of adults completing some college or associate\\'s degree, 2014-18'], \n",
    "                                                                     x['Percent of adults with a bachelor\\'s degree or higher, 2014-18'], 4), axis=1)"
   ]
  },
  {
   "cell_type": "code",
   "execution_count": 12,
   "metadata": {},
   "outputs": [],
   "source": [
    "populations = pd.read_excel(\"final/co-est2019-annres.xlsx\")\n",
    "populations['county'] = populations['Geographic Area'].apply(lambda x: x.split(',')[0][1:])\n",
    "populations['state'] = populations['Geographic Area'].apply(lambda x: x.split(',')[1])\n",
    "population = populations['Census']"
   ]
  },
  {
   "cell_type": "code",
   "execution_count": 13,
   "metadata": {},
   "outputs": [],
   "source": [
    "result = pd.concat([state, county], axis=1)\n",
    "                    \n",
    "result['confirmed_cases'] = confirmed_cases\n",
    "result['deaths'] = deaths\n",
    "result['population'] = population\n",
    "result['days'] = case_days\n",
    "result['avearge_case'] = (100000.0) * confirmed_cases / case_days / population # Daily confirmed case per 100k people\n",
    "result['total_cases'] = confirmed_cases\n",
    "result['populationdensity'] = populationdensity_category\n",
    "result['toppest_ethnicity'] = ethnic_group_top1\n",
    "result['second_ethnicity'] = ethnic_group_top2\n",
    "result['third_ethnicity'] = ethnic_group_top3\n",
    "result['toppest_age_group'] = age_groups_top1\n",
    "result['second_age_group'] = age_groups_top2\n",
    "result['third_age_group'] = age_groups_top3\n",
    "result['fourth_age_group'] = age_groups_top4\n",
    "result['top_education'] = education_group_top1\n",
    "result['second_top_education'] = education_group_top2\n",
    "result['popdensity'] = prepandemic['popdensity_2018']\n",
    "result['precent_Hispanic'] = prepandemic['hispanic_2018'] \n",
    "result['precent_White'] = prepandemic['nhwhite_2018'] \n",
    "result['precent_Black'] = prepandemic['nhblack_2018'] \n",
    "result['precent_Idian'] = prepandemic['nhindian_2018'] \n",
    "result['precent_Asian'] = prepandemic['nhasian_2018'] \n",
    "result['precent_Hawaii'] = prepandemic['nhhawaii_2018']\n",
    "result['bachelor'] = education['Percent of adults with a bachelor\\'s degree or higher, 2014-18']\n",
    "result['college'] = education['Percent of adults completing some college or associate\\'s degree, 2014-18']\n",
    "result['highschool'] = education['Percent of adults with a high school diploma only, 2014-18']\n",
    "result['lessthanhighschool'] = education['Percent of adults with less than a high school diploma, 2014-18']\n",
    "result['precent_under_20'] = prepandemic['ageg1_2018'] + prepandemic['ageg2_2018'] + prepandemic['ageg3_2018'] + prepandemic['ageg4_2018']\n",
    "result['precent_20_to_40'] = prepandemic['ageg5_2018'] + prepandemic['ageg6_2018'] + prepandemic['ageg7_2018'] + prepandemic['ageg8_2018'] + prepandemic['ageg9_2018']\n",
    "result['precent_40_to_60'] = prepandemic['ageg10_2018'] + prepandemic['ageg11_2018'] + prepandemic['ageg12_2018'] + prepandemic['ageg13_2018']\n",
    "result['precent_above_60'] = prepandemic['ageg14_2018'] + prepandemic['ageg15_2018'] + prepandemic['ageg16_2018'] + prepandemic['ageg17_2018'] + prepandemic['ageg18_2018']"
   ]
  },
  {
   "cell_type": "code",
   "execution_count": 59,
   "metadata": {},
   "outputs": [],
   "source": [
    "# Target is 5 groups, very low, low, medium, high and very high\n",
    "def target_group(rank, total):\n",
    "    if (rank <= total / 5.0):\n",
    "        return \"Very_Low\"\n",
    "    if (rank <= total * 2.0 / 5.0):\n",
    "        return \"Low\"\n",
    "    if (rank <= total * 3.0 / 5.0):\n",
    "        return \"Medium\"\n",
    "    if (rank <= total * 4.0 / 5.0):\n",
    "        return \"High\"\n",
    "    return \"Very_High\"\n",
    "\n",
    "# Binary Target only has low and high\n",
    "def binary_target_group(rank, total):\n",
    "    if (rank <= total / 2.0):\n",
    "        return \"Low\"\n",
    "    return \"High\"\n",
    "\n",
    "total = len(result)\n",
    "\n",
    "result['target_rank'] = result['avearge_case'].rank().apply(lambda r: target_group(r, total))\n",
    "result['binary_target_rank'] = result['avearge_case'].rank().apply(lambda r: binary_target_group(r, total))"
   ]
  },
  {
   "cell_type": "code",
   "execution_count": 60,
   "metadata": {},
   "outputs": [
    {
     "data": {
      "text/html": [
       "<div>\n",
       "<style scoped>\n",
       "    .dataframe tbody tr th:only-of-type {\n",
       "        vertical-align: middle;\n",
       "    }\n",
       "\n",
       "    .dataframe tbody tr th {\n",
       "        vertical-align: top;\n",
       "    }\n",
       "\n",
       "    .dataframe thead th {\n",
       "        text-align: right;\n",
       "    }\n",
       "</style>\n",
       "<table border=\"1\" class=\"dataframe\">\n",
       "  <thead>\n",
       "    <tr style=\"text-align: right;\">\n",
       "      <th></th>\n",
       "      <th>stname</th>\n",
       "      <th>ctyname</th>\n",
       "      <th>confirmed_cases</th>\n",
       "      <th>deaths</th>\n",
       "      <th>population</th>\n",
       "      <th>days</th>\n",
       "      <th>avearge_case</th>\n",
       "      <th>total_cases</th>\n",
       "      <th>populationdensity</th>\n",
       "      <th>toppest_ethnicity</th>\n",
       "      <th>...</th>\n",
       "      <th>bachelor</th>\n",
       "      <th>college</th>\n",
       "      <th>highschool</th>\n",
       "      <th>lessthanhighschool</th>\n",
       "      <th>precent_under_20</th>\n",
       "      <th>precent_20_to_40</th>\n",
       "      <th>precent_40_to_60</th>\n",
       "      <th>precent_above_60</th>\n",
       "      <th>target_rank</th>\n",
       "      <th>binary_target_rank</th>\n",
       "    </tr>\n",
       "  </thead>\n",
       "  <tbody>\n",
       "    <tr>\n",
       "      <th>0</th>\n",
       "      <td>Alabama</td>\n",
       "      <td>Autauga County</td>\n",
       "      <td>45</td>\n",
       "      <td>3</td>\n",
       "      <td>54571</td>\n",
       "      <td>37</td>\n",
       "      <td>2.228686</td>\n",
       "      <td>45</td>\n",
       "      <td>2_Low</td>\n",
       "      <td>White</td>\n",
       "      <td>...</td>\n",
       "      <td>27.7</td>\n",
       "      <td>28.4</td>\n",
       "      <td>32.6</td>\n",
       "      <td>11.3</td>\n",
       "      <td>0.259420</td>\n",
       "      <td>0.316235</td>\n",
       "      <td>0.268718</td>\n",
       "      <td>0.155627</td>\n",
       "      <td>Medium</td>\n",
       "      <td>High</td>\n",
       "    </tr>\n",
       "    <tr>\n",
       "      <th>1</th>\n",
       "      <td>Alabama</td>\n",
       "      <td>Baldwin County</td>\n",
       "      <td>181</td>\n",
       "      <td>4</td>\n",
       "      <td>182265</td>\n",
       "      <td>35</td>\n",
       "      <td>2.837313</td>\n",
       "      <td>181</td>\n",
       "      <td>2_Low</td>\n",
       "      <td>White</td>\n",
       "      <td>...</td>\n",
       "      <td>31.3</td>\n",
       "      <td>31.3</td>\n",
       "      <td>27.6</td>\n",
       "      <td>9.7</td>\n",
       "      <td>0.236994</td>\n",
       "      <td>0.282857</td>\n",
       "      <td>0.275715</td>\n",
       "      <td>0.204433</td>\n",
       "      <td>Medium</td>\n",
       "      <td>High</td>\n",
       "    </tr>\n",
       "    <tr>\n",
       "      <th>2</th>\n",
       "      <td>Alabama</td>\n",
       "      <td>Barbour County</td>\n",
       "      <td>43</td>\n",
       "      <td>1</td>\n",
       "      <td>27457</td>\n",
       "      <td>25</td>\n",
       "      <td>6.264341</td>\n",
       "      <td>43</td>\n",
       "      <td>2_Low</td>\n",
       "      <td>Black</td>\n",
       "      <td>...</td>\n",
       "      <td>12.2</td>\n",
       "      <td>25.1</td>\n",
       "      <td>35.7</td>\n",
       "      <td>27.0</td>\n",
       "      <td>0.228769</td>\n",
       "      <td>0.318275</td>\n",
       "      <td>0.258752</td>\n",
       "      <td>0.194204</td>\n",
       "      <td>High</td>\n",
       "      <td>High</td>\n",
       "    </tr>\n",
       "    <tr>\n",
       "      <th>3</th>\n",
       "      <td>Alabama</td>\n",
       "      <td>Bibb County</td>\n",
       "      <td>42</td>\n",
       "      <td>0</td>\n",
       "      <td>22915</td>\n",
       "      <td>30</td>\n",
       "      <td>6.109535</td>\n",
       "      <td>42</td>\n",
       "      <td>2_Low</td>\n",
       "      <td>White</td>\n",
       "      <td>...</td>\n",
       "      <td>11.5</td>\n",
       "      <td>24.4</td>\n",
       "      <td>47.3</td>\n",
       "      <td>16.8</td>\n",
       "      <td>0.225536</td>\n",
       "      <td>0.338482</td>\n",
       "      <td>0.271250</td>\n",
       "      <td>0.164732</td>\n",
       "      <td>High</td>\n",
       "      <td>High</td>\n",
       "    </tr>\n",
       "    <tr>\n",
       "      <th>4</th>\n",
       "      <td>Alabama</td>\n",
       "      <td>Blount County</td>\n",
       "      <td>40</td>\n",
       "      <td>0</td>\n",
       "      <td>57322</td>\n",
       "      <td>36</td>\n",
       "      <td>1.938368</td>\n",
       "      <td>40</td>\n",
       "      <td>2_Low</td>\n",
       "      <td>White</td>\n",
       "      <td>...</td>\n",
       "      <td>12.6</td>\n",
       "      <td>33.5</td>\n",
       "      <td>34.0</td>\n",
       "      <td>19.8</td>\n",
       "      <td>0.253544</td>\n",
       "      <td>0.297009</td>\n",
       "      <td>0.267082</td>\n",
       "      <td>0.182365</td>\n",
       "      <td>Medium</td>\n",
       "      <td>Low</td>\n",
       "    </tr>\n",
       "  </tbody>\n",
       "</table>\n",
       "<p>5 rows × 35 columns</p>\n",
       "</div>"
      ],
      "text/plain": [
       "    stname         ctyname  confirmed_cases  deaths  population  days  \\\n",
       "0  Alabama  Autauga County               45       3       54571    37   \n",
       "1  Alabama  Baldwin County              181       4      182265    35   \n",
       "2  Alabama  Barbour County               43       1       27457    25   \n",
       "3  Alabama     Bibb County               42       0       22915    30   \n",
       "4  Alabama   Blount County               40       0       57322    36   \n",
       "\n",
       "   avearge_case  total_cases populationdensity toppest_ethnicity  ...  \\\n",
       "0      2.228686           45             2_Low             White  ...   \n",
       "1      2.837313          181             2_Low             White  ...   \n",
       "2      6.264341           43             2_Low             Black  ...   \n",
       "3      6.109535           42             2_Low             White  ...   \n",
       "4      1.938368           40             2_Low             White  ...   \n",
       "\n",
       "  bachelor college highschool lessthanhighschool precent_under_20  \\\n",
       "0     27.7    28.4       32.6               11.3         0.259420   \n",
       "1     31.3    31.3       27.6                9.7         0.236994   \n",
       "2     12.2    25.1       35.7               27.0         0.228769   \n",
       "3     11.5    24.4       47.3               16.8         0.225536   \n",
       "4     12.6    33.5       34.0               19.8         0.253544   \n",
       "\n",
       "  precent_20_to_40 precent_40_to_60 precent_above_60  target_rank  \\\n",
       "0         0.316235         0.268718         0.155627       Medium   \n",
       "1         0.282857         0.275715         0.204433       Medium   \n",
       "2         0.318275         0.258752         0.194204         High   \n",
       "3         0.338482         0.271250         0.164732         High   \n",
       "4         0.297009         0.267082         0.182365       Medium   \n",
       "\n",
       "   binary_target_rank  \n",
       "0                High  \n",
       "1                High  \n",
       "2                High  \n",
       "3                High  \n",
       "4                 Low  \n",
       "\n",
       "[5 rows x 35 columns]"
      ]
     },
     "execution_count": 60,
     "metadata": {},
     "output_type": "execute_result"
    }
   ],
   "source": [
    "result.head()"
   ]
  },
  {
   "cell_type": "code",
   "execution_count": 61,
   "metadata": {},
   "outputs": [
    {
     "data": {
      "text/plain": [
       "High    1571\n",
       "Low     1571\n",
       "Name: binary_target_rank, dtype: int64"
      ]
     },
     "execution_count": 61,
     "metadata": {},
     "output_type": "execute_result"
    }
   ],
   "source": [
    "result['binary_target_rank'].value_counts()"
   ]
  },
  {
   "cell_type": "code",
   "execution_count": 62,
   "metadata": {},
   "outputs": [
    {
     "ename": "ModuleNotFoundError",
     "evalue": "No module named 'seaborn'",
     "output_type": "error",
     "traceback": [
      "\u001b[0;31m---------------------------------------------------------------------------\u001b[0m",
      "\u001b[0;31mModuleNotFoundError\u001b[0m                       Traceback (most recent call last)",
      "\u001b[0;32m<ipython-input-62-a84c0541e888>\u001b[0m in \u001b[0;36m<module>\u001b[0;34m\u001b[0m\n\u001b[0;32m----> 1\u001b[0;31m \u001b[0;32mimport\u001b[0m \u001b[0mseaborn\u001b[0m \u001b[0;32mas\u001b[0m \u001b[0msns\u001b[0m\u001b[0;34m\u001b[0m\u001b[0;34m\u001b[0m\u001b[0m\n\u001b[0m",
      "\u001b[0;31mModuleNotFoundError\u001b[0m: No module named 'seaborn'"
     ]
    }
   ],
   "source": [
    "import seaborn as sns\n",
    "sns.set(style=\"darkgrid\")\n",
    "sns.countplot(x=\"binary_target_rank\", data=result)"
   ]
  },
  {
   "cell_type": "code",
   "execution_count": 15,
   "metadata": {},
   "outputs": [],
   "source": [
    "result.to_csv('final/model.csv')"
   ]
  },
  {
   "cell_type": "code",
   "execution_count": 16,
   "metadata": {},
   "outputs": [],
   "source": [
    "X = result[['populationdensity', 'toppest_ethnicity', 'second_ethnicity', 'third_ethnicity',\n",
    "           'toppest_age_group', 'second_age_group', 'third_age_group', 'fourth_age_group',\n",
    "           'top_education', 'second_top_education', 'popdensity', 'precent_Hispanic',\n",
    "           'precent_White', 'precent_Black', 'precent_Idian', 'precent_Asian', 'precent_Hawaii',\n",
    "           'bachelor', 'college', 'highschool', 'lessthanhighschool', 'precent_under_20',\n",
    "           'precent_20_to_40', 'precent_40_to_60', 'precent_above_60', 'avearge_case', 'total_cases']]"
   ]
  },
  {
   "cell_type": "code",
   "execution_count": 17,
   "metadata": {},
   "outputs": [
    {
     "data": {
      "text/plain": [
       "<matplotlib.axes._subplots.AxesSubplot at 0x7f99a90d9898>"
      ]
     },
     "execution_count": 17,
     "metadata": {},
     "output_type": "execute_result"
    },
    {
     "data": {
      "image/png": "[encoded data removed]",
      "text/plain": [
       "<Figure size 432x288 with 1 Axes>"
      ]
     },
     "metadata": {
      "needs_background": "light"
     },
     "output_type": "display_data"
    }
   ],
   "source": [
    "result.plot(kind='scatter', x='popdensity', y='total_cases', color='red')"
   ]
  },
  {
   "cell_type": "code",
   "execution_count": 18,
   "metadata": {},
   "outputs": [
    {
     "data": {
      "text/plain": [
       "<matplotlib.axes._subplots.AxesSubplot at 0x7f99a8450a90>"
      ]
     },
     "execution_count": 18,
     "metadata": {},
     "output_type": "execute_result"
    },
    {
     "data": {
      "image/png": "[encoded data removed]",
      "text/plain": [
       "<Figure size 432x288 with 1 Axes>"
      ]
     },
     "metadata": {
      "needs_background": "light"
     },
     "output_type": "display_data"
    }
   ],
   "source": [
    "result.plot(kind='scatter', x='popdensity', y='avearge_case', color='yellow')"
   ]
  },
  {
   "cell_type": "code",
   "execution_count": 19,
   "metadata": {},
   "outputs": [
    {
     "data": {
      "text/plain": [
       "<matplotlib.axes._subplots.AxesSubplot at 0x7f99f82074e0>"
      ]
     },
     "execution_count": 19,
     "metadata": {},
     "output_type": "execute_result"
    },
    {
     "data": {
      "image/png": "[encoded data removed]",
      "text/plain": [
       "<Figure size 432x288 with 1 Axes>"
      ]
     },
     "metadata": {
      "needs_background": "light"
     },
     "output_type": "display_data"
    }
   ],
   "source": [
    "result.plot(kind='scatter', x='precent_Black', y='avearge_case', color='blue')"
   ]
  },
  {
   "cell_type": "code",
   "execution_count": 21,
   "metadata": {},
   "outputs": [
    {
     "data": {
      "text/plain": [
       "<matplotlib.axes._subplots.AxesSubplot at 0x7f99ead70898>"
      ]
     },
     "execution_count": 21,
     "metadata": {},
     "output_type": "execute_result"
    },
    {
     "data": {
      "image/png": "[encoded data removed]",
      "text/plain": [
       "<Figure size 432x288 with 1 Axes>"
      ]
     },
     "metadata": {
      "needs_background": "light"
     },
     "output_type": "display_data"
    }
   ],
   "source": [
    "result.plot(kind='scatter', x='precent_above_60', y='avearge_case', color='green')"
   ]
  },
  {
   "cell_type": "code",
   "execution_count": 24,
   "metadata": {},
   "outputs": [
    {
     "data": {
      "text/html": [
       "<div>\n",
       "<style scoped>\n",
       "    .dataframe tbody tr th:only-of-type {\n",
       "        vertical-align: middle;\n",
       "    }\n",
       "\n",
       "    .dataframe tbody tr th {\n",
       "        vertical-align: top;\n",
       "    }\n",
       "\n",
       "    .dataframe thead th {\n",
       "        text-align: right;\n",
       "    }\n",
       "</style>\n",
       "<table border=\"1\" class=\"dataframe\">\n",
       "  <thead>\n",
       "    <tr style=\"text-align: right;\">\n",
       "      <th></th>\n",
       "      <th>popdensity</th>\n",
       "      <th>avearge_case</th>\n",
       "    </tr>\n",
       "  </thead>\n",
       "  <tbody>\n",
       "    <tr>\n",
       "      <th>popdensity</th>\n",
       "      <td>1.000000</td>\n",
       "      <td>0.129762</td>\n",
       "    </tr>\n",
       "    <tr>\n",
       "      <th>avearge_case</th>\n",
       "      <td>0.129762</td>\n",
       "      <td>1.000000</td>\n",
       "    </tr>\n",
       "  </tbody>\n",
       "</table>\n",
       "</div>"
      ],
      "text/plain": [
       "              popdensity  avearge_case\n",
       "popdensity      1.000000      0.129762\n",
       "avearge_case    0.129762      1.000000"
      ]
     },
     "execution_count": 24,
     "metadata": {},
     "output_type": "execute_result"
    }
   ],
   "source": [
    "popdensity_and_cases = result[['popdensity', 'avearge_case']]\n",
    "popdensity_and_cases.corr(method='pearson')"
   ]
  },
  {
   "cell_type": "code",
   "execution_count": 25,
   "metadata": {},
   "outputs": [
    {
     "data": {
      "text/html": [
       "<div>\n",
       "<style scoped>\n",
       "    .dataframe tbody tr th:only-of-type {\n",
       "        vertical-align: middle;\n",
       "    }\n",
       "\n",
       "    .dataframe tbody tr th {\n",
       "        vertical-align: top;\n",
       "    }\n",
       "\n",
       "    .dataframe thead th {\n",
       "        text-align: right;\n",
       "    }\n",
       "</style>\n",
       "<table border=\"1\" class=\"dataframe\">\n",
       "  <thead>\n",
       "    <tr style=\"text-align: right;\">\n",
       "      <th></th>\n",
       "      <th>popdensity</th>\n",
       "      <th>avearge_case</th>\n",
       "    </tr>\n",
       "  </thead>\n",
       "  <tbody>\n",
       "    <tr>\n",
       "      <th>popdensity</th>\n",
       "      <td>1.000000</td>\n",
       "      <td>0.262035</td>\n",
       "    </tr>\n",
       "    <tr>\n",
       "      <th>avearge_case</th>\n",
       "      <td>0.262035</td>\n",
       "      <td>1.000000</td>\n",
       "    </tr>\n",
       "  </tbody>\n",
       "</table>\n",
       "</div>"
      ],
      "text/plain": [
       "              popdensity  avearge_case\n",
       "popdensity      1.000000      0.262035\n",
       "avearge_case    0.262035      1.000000"
      ]
     },
     "execution_count": 25,
     "metadata": {},
     "output_type": "execute_result"
    }
   ],
   "source": [
    "popdensity_and_cases.corr(method='kendall')"
   ]
  },
  {
   "cell_type": "code",
   "execution_count": 26,
   "metadata": {},
   "outputs": [
    {
     "data": {
      "text/html": [
       "<div>\n",
       "<style scoped>\n",
       "    .dataframe tbody tr th:only-of-type {\n",
       "        vertical-align: middle;\n",
       "    }\n",
       "\n",
       "    .dataframe tbody tr th {\n",
       "        vertical-align: top;\n",
       "    }\n",
       "\n",
       "    .dataframe thead th {\n",
       "        text-align: right;\n",
       "    }\n",
       "</style>\n",
       "<table border=\"1\" class=\"dataframe\">\n",
       "  <thead>\n",
       "    <tr style=\"text-align: right;\">\n",
       "      <th></th>\n",
       "      <th>popdensity</th>\n",
       "      <th>avearge_case</th>\n",
       "    </tr>\n",
       "  </thead>\n",
       "  <tbody>\n",
       "    <tr>\n",
       "      <th>popdensity</th>\n",
       "      <td>1.000000</td>\n",
       "      <td>0.371283</td>\n",
       "    </tr>\n",
       "    <tr>\n",
       "      <th>avearge_case</th>\n",
       "      <td>0.371283</td>\n",
       "      <td>1.000000</td>\n",
       "    </tr>\n",
       "  </tbody>\n",
       "</table>\n",
       "</div>"
      ],
      "text/plain": [
       "              popdensity  avearge_case\n",
       "popdensity      1.000000      0.371283\n",
       "avearge_case    0.371283      1.000000"
      ]
     },
     "execution_count": 26,
     "metadata": {},
     "output_type": "execute_result"
    }
   ],
   "source": [
    "popdensity_and_cases.corr(method='spearman')"
   ]
  },
  {
   "cell_type": "code",
   "execution_count": null,
   "metadata": {},
   "outputs": [],
   "source": [
    "popdensity_and_cases = result[['popdensity', 'avearge_case']]"
   ]
  },
  {
   "cell_type": "code",
   "execution_count": 41,
   "metadata": {},
   "outputs": [
    {
     "data": {
      "text/plain": [
       "PointbiserialrResult(correlation=0.20873892568434554, pvalue=2.850889028422605e-32)"
      ]
     },
     "execution_count": 41,
     "metadata": {},
     "output_type": "execute_result"
    }
   ],
   "source": [
    "btr = result['binary_target_rank'].apply(lambda x: 0 if x == 'Low' else 1)\n",
    "from scipy import stats\n",
    "stats.pointbiserialr(btr, result['avearge_case'])"
   ]
  },
  {
   "cell_type": "code",
   "execution_count": 44,
   "metadata": {},
   "outputs": [],
   "source": [
    "from sklearn.feature_selection import mutual_info_classif\n",
    "from sklearn.preprocessing import LabelEncoder"
   ]
  },
  {
   "cell_type": "code",
   "execution_count": 48,
   "metadata": {},
   "outputs": [],
   "source": [
    "label_encoder = LabelEncoder()\n",
    "populationdensity_onehot = label_encoder.fit_transform(populationdensity_category)\n",
    "ethnic_group_top1_onehot = label_encoder.fit_transform(ethnic_group_top1)\n",
    "ethnic_group_top2_onehot = label_encoder.fit_transform(ethnic_group_top2)\n",
    "ethnic_group_top3_onehot = label_encoder.fit_transform(ethnic_group_top3)\n",
    "\n",
    "age_groups_top1_onehot = label_encoder.fit_transform(age_groups_top1)\n",
    "age_groups_top2_onehot = label_encoder.fit_transform(age_groups_top2)\n",
    "age_groups_top3_onehot = label_encoder.fit_transform(age_groups_top3)\n",
    "age_groups_top4_onehot = label_encoder.fit_transform(age_groups_top4)\n",
    "education_group_top1_onehot = label_encoder.fit_transform(education_group_top1)\n",
    "education_group_top2_onehot = label_encoder.fit_transform(education_group_top2)\n",
    "binary_target_rank_onehot = label_encoder.fit_transform(result['binary_target_rank'])"
   ]
  },
  {
   "cell_type": "code",
   "execution_count": 53,
   "metadata": {},
   "outputs": [],
   "source": [
    "po = populationdensity_onehot.reshape(-1, 1)"
   ]
  },
  {
   "cell_type": "code",
   "execution_count": 54,
   "metadata": {},
   "outputs": [
    {
     "data": {
      "text/plain": [
       "array([0.05288435])"
      ]
     },
     "execution_count": 54,
     "metadata": {},
     "output_type": "execute_result"
    }
   ],
   "source": [
    "mutual_info_classif(po, binary_target_rank_onehot, discrete_features=True)"
   ]
  },
  {
   "cell_type": "code",
   "execution_count": null,
   "metadata": {},
   "outputs": [],
   "source": [
    "from sklearn.linear_model import LogisticRegression\n",
    "logmodel = LogisticRegression()\n",
    "logmodel.fit(X_train,y_train)"
   ]
  }
 ],
 "metadata": {
  "kernelspec": {
   "display_name": "Python 3",
   "language": "python",
   "name": "python3"
  },
  "language_info": {
   "codemirror_mode": {
    "name": "ipython",
    "version": 3
   },
   "file_extension": ".py",
   "mimetype": "text/x-python",
   "name": "python",
   "nbconvert_exporter": "python",
   "pygments_lexer": "ipython3",
   "version": "3.6.10"
  }
 },
 "nbformat": 4,
 "nbformat_minor": 4
}
