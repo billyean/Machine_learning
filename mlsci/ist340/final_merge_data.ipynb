{
 "cells": [
  {
   "cell_type": "code",
   "execution_count": 77,
   "metadata": {},
   "outputs": [],
   "source": [
    "import pandas as pd\n",
    "import numpy as np"
   ]
  },
  {
   "cell_type": "code",
   "execution_count": 78,
   "metadata": {},
   "outputs": [],
   "source": [
    "pandemic = pd.read_csv(\"final/Pandemic_v1.csv\")\n",
    "prepandemic = pd.read_csv(\"final/prepandemic_v1.csv\")\n",
    "unemployment = pd.read_csv(\"final/Unemployment_v1.csv\")"
   ]
  },
  {
   "cell_type": "code",
   "execution_count": 79,
   "metadata": {},
   "outputs": [],
   "source": [
    "# Need state and county name\n",
    "state = pandemic['stname']\n",
    "county = pandemic['ctyname']\n",
    "\n",
    "# The confirmed cases and death number is accumulated, used the last available date data\n",
    "confirmed_cases = pandemic['confirmed_cases_20200418']\n",
    "deaths = pandemic['deaths_20200418']"
   ]
  },
  {
   "cell_type": "code",
   "execution_count": 80,
   "metadata": {},
   "outputs": [],
   "source": [
    "# Use year 2018(closest) population density\n",
    "populationdensity=prepandemic['popdensity_2018']\n",
    "populationdensity_min = populationdensity.min()\n",
    "populationdensity_mean = populationdensity.mean()\n",
    "populationdensity_stage = populationdensity_mean - populationdensity_min\n",
    "def populationdensity_category(populationdensity):\n",
    "    if populationdensity < populationdensity_mean - populationdensity_stage * 0.9: \n",
    "        return '1_Very Low' \n",
    "    elif populationdensity < populationdensity_mean - populationdensity_stage * 0.3: \n",
    "        return '2_Low'  \n",
    "    elif populationdensity < populationdensity_mean + populationdensity_stage * 0.3: \n",
    "        return '3_Medium'   \n",
    "    elif populationdensity < populationdensity_mean + populationdensity_stage: \n",
    "        return '4_High' \n",
    "    else:\n",
    "        return 'Very_High'\n",
    "populationdensity_category = prepandemic.apply(lambda x: populationdensity_category(x['popdensity_2018']), axis = 1)"
   ]
  },
  {
   "cell_type": "code",
   "execution_count": 84,
   "metadata": {},
   "outputs": [],
   "source": [
    "# Get top 3 most populations ethnicity group in the county\n",
    "def etnic_group_top(hispanic, white, black, indian, asian, hawaii_na, top):\n",
    "    ethnic_groups = [('Hispanic', hispanic), ('White', white), ('Black', black), ('Indian', indian), ('Asian', asian), ('Hawaii and N/A', hawaii_na)]\n",
    "    ethnic_groups = sorted(ethnic_groups, key = lambda x: -x[1])\n",
    "    return ethnic_groups[top - 1][0]\n",
    "\n",
    "ethnic_group_top1 = prepandemic.apply(lambda x: etnic_group_top(x['Hispanic2018'], x['nH_White_2018'], x['nH_Black_2018'], x['nH_Indian_Na_2018'], x['nH_Asian_2018'], x['nH_Hawaii_Na_2018'], 1), axis = 1)\n",
    "ethnic_group_top2 = prepandemic.apply(lambda x: etnic_group_top(x['Hispanic2018'], x['nH_White_2018'], x['nH_Black_2018'], x['nH_Indian_Na_2018'], x['nH_Asian_2018'], x['nH_Hawaii_Na_2018'], 2), axis = 1)\n",
    "ethnic_group_top3 = prepandemic.apply(lambda x: etnic_group_top(x['Hispanic2018'], x['nH_White_2018'], x['nH_Black_2018'], x['nH_Indian_Na_2018'], x['nH_Asian_2018'], x['nH_Hawaii_Na_2018'], 3), axis = 1)"
   ]
  },
  {
   "cell_type": "code",
   "execution_count": 86,
   "metadata": {},
   "outputs": [],
   "source": [
    "# Age data has 18 columns, we group them to children, young adult, middle adult, senior\n",
    "# column1:  age 0-4 prop.\n",
    "# column2:  age 5-9 prop.\n",
    "# column3:  age 10-14 prop.\n",
    "# column4:  age 15-19 prop.\n",
    "# column5:  age 20-24 prop.\n",
    "# column6:  age 25-29 prop.\n",
    "# column7:  age 30-34 prop.\n",
    "# column8:  age 35-39 prop.\n",
    "# column9:  age 40-44 prop.\n",
    "# column10: age 45-49 prop.\n",
    "# column11: age 50-54 prop.\n",
    "# column12: age 55-59 prop.\n",
    "# column13: age 60-64 prop.\n",
    "# column14: age 65-69 prop.\n",
    "# column15: age 70-74 prop.\n",
    "# column16: age 75-79 prop.\n",
    "# column17: age 80-84 prop.\n",
    "# column18: age 85+ prop.\n",
    "def age_group_top(age, top):\n",
    "    children_poportion = age[0] + age[1] + age[2] + age[3]\n",
    "    young_adult_poportion = age[4] + age[5] + age[6] + age[7] + age[8]\n",
    "    middle_adult_poportion = age[9] + age[10] + age[11] + age[12]\n",
    "    senior_poportion = age[13] + age[14] + age[15] + age[16] + age[17]\n",
    "    age_group_list = [('Children', children_poportion), ('Young Adult', young_adult_poportion), ('Middle Adult', middle_adult_poportion), ('Senior', senior_poportion)]\n",
    "    age_group_list = sorted(age_group_list, key = lambda x: -x[1])\n",
    "    return age_group_list[top - 1][0]\n",
    "age_groups_top1 = prepandemic.apply(lambda x: age_group_top([x['ageg1_2018'], x['ageg2_2018'], x['ageg3_2018'], x['ageg4_2018'], x['ageg5_2018'], x['ageg6_2018'], x['ageg7_2018'], x['ageg8_2018'], x['ageg9_2018'], x['ageg10_2018'], x['ageg11_2018'], x['ageg12_2018'], x['ageg13_2018'], x['ageg14_2018'], x['ageg15_2018'], x['ageg16_2018'], x['ageg17_2018'], x['ageg18_2018']], 1), axis = 1)\n",
    "age_groups_top2 = prepandemic.apply(lambda x: age_group_top([x['ageg1_2018'], x['ageg2_2018'], x['ageg3_2018'], x['ageg4_2018'], x['ageg5_2018'], x['ageg6_2018'], x['ageg7_2018'], x['ageg8_2018'], x['ageg9_2018'], x['ageg10_2018'], x['ageg11_2018'], x['ageg12_2018'], x['ageg13_2018'], x['ageg14_2018'], x['ageg15_2018'], x['ageg16_2018'], x['ageg17_2018'], x['ageg18_2018']], 2), axis = 1)\n",
    "age_groups_top3 = prepandemic.apply(lambda x: age_group_top([x['ageg1_2018'], x['ageg2_2018'], x['ageg3_2018'], x['ageg4_2018'], x['ageg5_2018'], x['ageg6_2018'], x['ageg7_2018'], x['ageg8_2018'], x['ageg9_2018'], x['ageg10_2018'], x['ageg11_2018'], x['ageg12_2018'], x['ageg13_2018'], x['ageg14_2018'], x['ageg15_2018'], x['ageg16_2018'], x['ageg17_2018'], x['ageg18_2018']], 3), axis = 1)\n",
    "age_groups_top4 = prepandemic.apply(lambda x: age_group_top([x['ageg1_2018'], x['ageg2_2018'], x['ageg3_2018'], x['ageg4_2018'], x['ageg5_2018'], x['ageg6_2018'], x['ageg7_2018'], x['ageg8_2018'], x['ageg9_2018'], x['ageg10_2018'], x['ageg11_2018'], x['ageg12_2018'], x['ageg13_2018'], x['ageg14_2018'], x['ageg15_2018'], x['ageg16_2018'], x['ageg17_2018'], x['ageg18_2018']], 4), axis = 1)"
   ]
  },
  {
   "cell_type": "code",
   "execution_count": 88,
   "metadata": {},
   "outputs": [
    {
     "data": {
      "text/plain": [
       "0       Middle Adult\n",
       "1       Middle Adult\n",
       "2       Middle Adult\n",
       "3       Middle Adult\n",
       "4       Middle Adult\n",
       "5       Middle Adult\n",
       "6       Middle Adult\n",
       "7       Middle Adult\n",
       "8       Middle Adult\n",
       "9        Young Adult\n",
       "10      Middle Adult\n",
       "11       Young Adult\n",
       "12      Middle Adult\n",
       "13       Young Adult\n",
       "14      Middle Adult\n",
       "15      Middle Adult\n",
       "16      Middle Adult\n",
       "17       Young Adult\n",
       "18       Young Adult\n",
       "19      Middle Adult\n",
       "20      Middle Adult\n",
       "21      Middle Adult\n",
       "22      Middle Adult\n",
       "23      Middle Adult\n",
       "24          Children\n",
       "25      Middle Adult\n",
       "26      Middle Adult\n",
       "27      Middle Adult\n",
       "28      Middle Adult\n",
       "29          Children\n",
       "            ...     \n",
       "3112          Senior\n",
       "3113     Young Adult\n",
       "3114     Young Adult\n",
       "3115     Young Adult\n",
       "3116     Young Adult\n",
       "3117    Middle Adult\n",
       "3118     Young Adult\n",
       "3119        Children\n",
       "3120     Young Adult\n",
       "3121        Children\n",
       "3122    Middle Adult\n",
       "3123    Middle Adult\n",
       "3124        Children\n",
       "3125        Children\n",
       "3126    Middle Adult\n",
       "3127          Senior\n",
       "3128     Young Adult\n",
       "3129        Children\n",
       "3130     Young Adult\n",
       "3131        Children\n",
       "3132    Middle Adult\n",
       "3133    Middle Adult\n",
       "3134          Senior\n",
       "3135    Middle Adult\n",
       "3136    Middle Adult\n",
       "3137        Children\n",
       "3138    Middle Adult\n",
       "3139     Young Adult\n",
       "3140     Young Adult\n",
       "3141     Young Adult\n",
       "Length: 3142, dtype: object"
      ]
     },
     "execution_count": 88,
     "metadata": {},
     "output_type": "execute_result"
    }
   ],
   "source": [
    "age_groups_top2"
   ]
  },
  {
   "cell_type": "code",
   "execution_count": 107,
   "metadata": {},
   "outputs": [],
   "source": [
    "# Get all education adata\n",
    "education = pd.read_excel(\"final/Education_By_County.xls\")\n",
    "education = education.drop(education[pd.isna(education['2013 Rural-urban Continuum Code'])].index)"
   ]
  },
  {
   "cell_type": "code",
   "execution_count": 155,
   "metadata": {},
   "outputs": [
    {
     "name": "stdout",
     "output_type": "stream",
     "text": [
      "In education data set[VA]: 134 rows, in pandemic dataset[Virginia]: 133 rows\n"
     ]
    }
   ],
   "source": [
    "states_map = pd.read_csv(\"final/states.csv\")\n",
    "states_map\n",
    "\n",
    "for index, row in states_map.iterrows():\n",
    "    pc = len(pandemic[pandemic['stname'] == row[1]])\n",
    "    ec = len(education[education['State'] == row[0]])\n",
    "    if pc != ec:\n",
    "        print(f\"In education data set[{row[0]}]: {ec} rows, in pandemic dataset[{row[1]}]: {pc} rows\")  "
   ]
  },
  {
   "cell_type": "code",
   "execution_count": 156,
   "metadata": {},
   "outputs": [
    {
     "name": "stdout",
     "output_type": "stream",
     "text": [
      "Bedford city is missing in va_pandemic\n"
     ]
    }
   ],
   "source": [
    "va_pandemic = pandemic[pandemic['stname'] == 'Virginia']\n",
    "va_education = education[education['State'] == 'VA']\n",
    "for index, row in va_education.iterrows():\n",
    "    area = row['Area name']\n",
    "    if len(va_pandemic[va_pandemic['ctyname'] == area]) == 0:\n",
    "        print(f\"{area} is missing in va_pandemic\")"
   ]
  },
  {
   "cell_type": "code",
   "execution_count": null,
   "metadata": {},
   "outputs": [],
   "source": []
  }
 ],
 "metadata": {
  "kernelspec": {
   "display_name": "Python 3",
   "language": "python",
   "name": "python3"
  },
  "language_info": {
   "codemirror_mode": {
    "name": "ipython",
    "version": 3
   },
   "file_extension": ".py",
   "mimetype": "text/x-python",
   "name": "python",
   "nbconvert_exporter": "python",
   "pygments_lexer": "ipython3",
   "version": "3.6.10"
  }
 },
 "nbformat": 4,
 "nbformat_minor": 4
}
