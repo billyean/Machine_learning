{
 "cells": [
  {
   "cell_type": "code",
   "execution_count": 52,
   "metadata": {},
   "outputs": [],
   "source": [
    "import pandas as pd"
   ]
  },
  {
   "cell_type": "code",
   "execution_count": 53,
   "metadata": {},
   "outputs": [],
   "source": [
    "data = pd.read_csv('Zoo_Data.csv')"
   ]
  },
  {
   "cell_type": "code",
   "execution_count": 54,
   "metadata": {},
   "outputs": [],
   "source": [
    "def leg_category(leg):\n",
    "    if leg == 0: \n",
    "        return 'Limbless' \n",
    "    elif leg > 2: \n",
    "        return 'Multllimb' \n",
    "    else:\n",
    "        return 'Biped'"
   ]
  },
  {
   "cell_type": "code",
   "execution_count": 55,
   "metadata": {},
   "outputs": [],
   "source": [
    "data['LEG_CATEGORY'] = data.apply(lambda x: leg_category(x['LEGS']), axis = 1)"
   ]
  },
  {
   "cell_type": "code",
   "execution_count": 56,
   "metadata": {},
   "outputs": [],
   "source": [
    "def predator_category(predator):\n",
    "    if predator == 0: \n",
    "        return 'Not Predator' \n",
    "    else:\n",
    "        return 'Is Predator'"
   ]
  },
  {
   "cell_type": "code",
   "execution_count": 57,
   "metadata": {},
   "outputs": [],
   "source": [
    "data['PREDATOR_CATEGORY'] = data.apply(lambda x: predator_category(x['PREDATOR']), axis = 1)"
   ]
  },
  {
   "cell_type": "code",
   "execution_count": 58,
   "metadata": {},
   "outputs": [],
   "source": [
    "def toothed_category(toothed):\n",
    "    if toothed == 0: \n",
    "        return 'Toothless' \n",
    "    else:\n",
    "        return 'Toothed'"
   ]
  },
  {
   "cell_type": "code",
   "execution_count": 59,
   "metadata": {},
   "outputs": [],
   "source": [
    "data['TOOTHED_CATEGORY'] = data.apply(lambda x: toothed_category(x['TOOTHED']), axis = 1)"
   ]
  },
  {
   "cell_type": "code",
   "execution_count": 60,
   "metadata": {},
   "outputs": [],
   "source": [
    "name2leg = data[['ANIMAL_NAME', 'LEG_CATEGORY']].rename(columns={'ANIMAL_NAME':'ANIMAL', 'LEG_CATEGORY':'CATEGORY'})\n",
    "name2predator = data[['ANIMAL_NAME', 'PREDATOR_CATEGORY']].rename(columns={'ANIMAL_NAME':'ANIMAL', 'PREDATOR_CATEGORY':'CATEGORY'})\n",
    "name2tooth = data[['ANIMAL_NAME', 'TOOTHED_CATEGORY']].rename(columns={'ANIMAL_NAME':'ANIMAL', 'TOOTHED_CATEGORY':'CATEGORY'})"
   ]
  },
  {
   "cell_type": "code",
   "execution_count": 61,
   "metadata": {},
   "outputs": [],
   "source": [
    "new_data = pd.concat([name2leg, name2predator, name2tooth])"
   ]
  },
  {
   "cell_type": "code",
   "execution_count": 62,
   "metadata": {},
   "outputs": [],
   "source": [
    "new_data.to_csv('Zoo_Data_Categories.csv', columns=['ANIMAL', 'CATEGORY'])"
   ]
  },
  {
   "cell_type": "code",
   "execution_count": null,
   "metadata": {},
   "outputs": [],
   "source": []
  }
 ],
 "metadata": {
  "kernelspec": {
   "display_name": "Python 3",
   "language": "python",
   "name": "python3"
  },
  "language_info": {
   "codemirror_mode": {
    "name": "ipython",
    "version": 3
   },
   "file_extension": ".py",
   "mimetype": "text/x-python",
   "name": "python",
   "nbconvert_exporter": "python",
   "pygments_lexer": "ipython3",
   "version": "3.6.9"
  }
 },
 "nbformat": 4,
 "nbformat_minor": 4
}
