{
 "cells": [
  {
   "cell_type": "code",
   "execution_count": null,
   "metadata": {},
   "outputs": [],
   "source": [
    "from pyspark.sql import SparkSession\n",
    "from pyspark.sql.functions import *\n",
    "from pyspark.sql.types import *\n",
    "import json"
   ]
  },
  {
   "cell_type": "code",
   "execution_count": null,
   "metadata": {},
   "outputs": [],
   "source": [
    "spark = SparkSession.builder.appName(\"Test\").getOrCreate()"
   ]
  },
  {
   "cell_type": "code",
   "execution_count": null,
   "metadata": {},
   "outputs": [],
   "source": [
    "# df = spark.readStream.format(\"kafka\").option(\"kafka.bootstrap.servers\", \"kafka-349912662-2-369579260.prod-cdc.kafka-shared-2-prod.ms-df-messaging.cdcprod03.prod.walmart.com:9092\").option(\"subscribe\", \"wpa_clicks\").load()\n",
    "df = spark.readStream.format(\"socket\").option(\"host\", \"localhost\").option(\"port\", 9999).load()"
   ]
  },
  {
   "cell_type": "code",
   "execution_count": null,
   "metadata": {},
   "outputs": [],
   "source": [
    "wpa_clicks = df.select(get_json_object(df.value, '$.timestamp').alias(\"timestamp\"), \\\n",
    "                get_json_object(df.value, '$.event').alias(\"event\"), \\\n",
    "                get_json_object(df.value, '$.pageType').alias(\"pageType\"), \\\n",
    "                get_json_object(df.value, '$.pageId').alias(\"pageId\"), \\\n",
    "                get_json_object(df.value, '$.placementId').alias(\"placementId\"), \\\n",
    "                get_json_object(df.value, '$.adUid').alias(\"adUid\"), \\\n",
    "                get_json_object(df.value, '$.relUuid').alias(\"relUuid\"), \\\n",
    "                get_json_object(df.value, '$.vtc').alias(\"vtc\"), \\\n",
    "                get_json_object(df.value, '$.btc').alias(\"btc\"), \\\n",
    "                get_json_object(df.value, '$.sVi').alias(\"sVi\"), \\\n",
    "                get_json_object(df.value, '$.vid').alias(\"vid\"), \\\n",
    "                get_json_object(df.value, '$.xpa').alias(\"xpa\"), \\\n",
    "                get_json_object(df.value, '$.customerId').alias(\"customerId\"), \\\n",
    "                get_json_object(df.value, '$.pageUrl').alias(\"pageUrl\"), \\\n",
    "                get_json_object(df.value, '$.activityItems').alias(\"activityItems\"), \\\n",
    "                get_json_object(df.value, '$.relUuid').alias(\"relUuid\"), \\\n",
    "                get_json_object(df.value, '$.platform').alias(\"platform\"), \\\n",
    "                get_json_object(df.value, '$.bucketId').alias(\"bucketId\"), \\\n",
    "                get_json_object(df.value, '$.remoteAddress').alias(\"remoteAddress\"), \\\n",
    "                get_json_object(df.value, '$.eventSubType').alias(\"eventSubType\"), \\\n",
    "                get_json_object(df.value, '$.pageTaxonomy').alias(\"pageTaxonomy\"), \\\n",
    "                get_json_object(df.value, '$.moduleLocation').alias(\"moduleLocation\"), \\\n",
    "                get_json_object(df.value, '$.metricTimestamp').alias(\"metricTimestamp\"), \\\n",
    "                get_json_object(df.value, '$.clickId').alias(\"clickId\"), \\\n",
    "                get_json_object(df.value, '$.requestUri').alias(\"requestUri\"), \\\n",
    "                get_json_object(df.value, '$.wpaQs').alias(\"wpaQs\"), \\\n",
    "                get_json_object(df.value, '$.additionalInfo').alias(\"additionalInfo\"), \\\n",
    "                get_json_object(df.value, '$.wpaQsDecrypted').alias(\"wpaQsDecrypted\"), \\\n",
    "                get_json_object(df.value, '$.appActivity').alias(\"appActivity\"), \\\n",
    "                get_json_object(df.value, '$.bot').alias(\"bot\"), \\\n",
    "                get_json_object(df.value, '$.free').alias(\"free\"), \\\n",
    "                get_json_object(df.value, '$.stale').alias(\"stale\"), \\\n",
    "                get_json_object(df.value, '$.storingError').alias(\"storingError\"))"
   ]
  },
  {
   "cell_type": "code",
   "execution_count": null,
   "metadata": {},
   "outputs": [],
   "source": [
    "pageTypes = wpa_clicks.groupBy(\"pageType\").count()"
   ]
  },
  {
   "cell_type": "code",
   "execution_count": null,
   "metadata": {},
   "outputs": [],
   "source": [
    "# Start running the query that prints the running counts to the console\n",
    "query = pageTypes.writeStream.outputMode(\"complete\").format(\"console\").start()\n",
    "query.awaitTermination()"
   ]
  }
 ],
 "metadata": {
  "kernelspec": {
   "display_name": "Python 3",
   "language": "python",
   "name": "python3"
  },
  "language_info": {
   "codemirror_mode": {
    "name": "ipython",
    "version": 3
   },
   "file_extension": ".py",
   "mimetype": "text/x-python",
   "name": "python",
   "nbconvert_exporter": "python",
   "pygments_lexer": "ipython3",
   "version": "3.7.0"
  }
 },
 "nbformat": 4,
 "nbformat_minor": 2
}
